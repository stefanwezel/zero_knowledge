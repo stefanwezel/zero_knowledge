{
  "nbformat": 4,
  "nbformat_minor": 0,
  "metadata": {
    "colab": {
      "name": "simple_fiat_shamir.ipynb",
      "version": "0.3.2",
      "provenance": [],
      "collapsed_sections": []
    },
    "kernelspec": {
      "name": "python3",
      "display_name": "Python 3"
    }
  },
  "cells": [
    {
      "cell_type": "markdown",
      "metadata": {
        "id": "STF-RYJeuORo",
        "colab_type": "text"
      },
      "source": [
        "# Helper Functions\n",
        "Here, we define some functions, we're going to use throughout the code. Each function posseses a docstring, briefly describing what the function does."
      ]
    },
    {
      "cell_type": "code",
      "metadata": {
        "id": "K87rXrH_uVom",
        "colab_type": "code",
        "colab": {}
      },
      "source": [
        "import math\n",
        "import numpy as np\n",
        "\n",
        "\n",
        "def get_primes(n):\n",
        "    \"\"\" Generates a list of prime number below the given n. \"\"\"\n",
        "    sieve = [True] * n\n",
        "    for i in range(3, int(n**0.5) + 1,2):\n",
        "        if sieve[i]:\n",
        "            sieve[i*i::2*i] = [False] * int((n-i * i-1)/(2*i)+1)\n",
        "    return [2] + [i for i in range(3,n,2) if sieve[i]]\n"
      ],
      "execution_count": 0,
      "outputs": []
    },
    {
      "cell_type": "markdown",
      "metadata": {
        "id": "m0q13S-Pt0a2",
        "colab_type": "text"
      },
      "source": [
        "# Generate Prime Numbers\n",
        "First we need to calculate a $n = p \\cdot q$ with both $p$ and $n$ being large prime numbers. This makes $n$ very hard to factorize."
      ]
    },
    {
      "cell_type": "code",
      "metadata": {
        "id": "LP8BkmRmtzUy",
        "colab_type": "code",
        "outputId": "412d01d6-dadc-4fb0-dfad-5e104721293e",
        "colab": {
          "base_uri": "https://localhost:8080/",
          "height": 110
        }
      },
      "source": [
        "list_of_primes = get_primes(1000)\n",
        "print(list_of_primes)\n",
        "\n",
        "p = list_of_primes[np.random.randint(low = int(len(list_of_primes)/2), high = len(list_of_primes))]\n",
        "q = list_of_primes[np.random.randint(low = int(len(list_of_primes)/2), high = len(list_of_primes))]\n",
        "\n",
        "\n",
        "n = p * q\n",
        "\n",
        "\n",
        "print(p)\n",
        "print(q)\n",
        "print(n)"
      ],
      "execution_count": 2,
      "outputs": [
        {
          "output_type": "stream",
          "text": [
            "[2, 3, 5, 7, 11, 13, 17, 19, 23, 29, 31, 37, 41, 43, 47, 53, 59, 61, 67, 71, 73, 79, 83, 89, 97, 101, 103, 107, 109, 113, 127, 131, 137, 139, 149, 151, 157, 163, 167, 173, 179, 181, 191, 193, 197, 199, 211, 223, 227, 229, 233, 239, 241, 251, 257, 263, 269, 271, 277, 281, 283, 293, 307, 311, 313, 317, 331, 337, 347, 349, 353, 359, 367, 373, 379, 383, 389, 397, 401, 409, 419, 421, 431, 433, 439, 443, 449, 457, 461, 463, 467, 479, 487, 491, 499, 503, 509, 521, 523, 541, 547, 557, 563, 569, 571, 577, 587, 593, 599, 601, 607, 613, 617, 619, 631, 641, 643, 647, 653, 659, 661, 673, 677, 683, 691, 701, 709, 719, 727, 733, 739, 743, 751, 757, 761, 769, 773, 787, 797, 809, 811, 821, 823, 827, 829, 839, 853, 857, 859, 863, 877, 881, 883, 887, 907, 911, 919, 929, 937, 941, 947, 953, 967, 971, 977, 983, 991, 997]\n",
            "523\n",
            "557\n",
            "291311\n"
          ],
          "name": "stdout"
        }
      ]
    },
    {
      "cell_type": "markdown",
      "metadata": {
        "id": "ApTsqyiWTbzw",
        "colab_type": "text"
      },
      "source": [
        "# Pick Secret s and Calculate v\n",
        "P chooses a secret $s$ and calculates $v = s^2 mod\\;n$. The $v$ will be public. However you can't easily compute $s$ if you only know $v$. Simply trying to find $s$ by brute force is therefore insufficient."
      ]
    },
    {
      "cell_type": "code",
      "metadata": {
        "id": "R2nVC5gXUBzg",
        "colab_type": "code",
        "outputId": "b94c9f2a-af93-4e0e-df75-69e6cf58ecb3",
        "colab": {
          "base_uri": "https://localhost:8080/",
          "height": 35
        }
      },
      "source": [
        "s = np.random.randint(low = 100, high = 1000)\n",
        "# print(s)\n",
        "\n",
        "v = (s**2)%n\n",
        "print(v)"
      ],
      "execution_count": 3,
      "outputs": [
        {
          "output_type": "stream",
          "text": [
            "268193\n"
          ],
          "name": "stdout"
        }
      ]
    },
    {
      "cell_type": "markdown",
      "metadata": {
        "id": "-Hpynm6_z5wx",
        "colab_type": "text"
      },
      "source": [
        "# Commitment\n",
        "P now chooses a random integer $r$ to the Verifier V. P calculates $x = r^2 mod\\;n$ and then sends $x$ to V."
      ]
    },
    {
      "cell_type": "code",
      "metadata": {
        "id": "T315NUij0dRK",
        "colab_type": "code",
        "outputId": "62942b3e-9ace-4190-ad8a-f2451b842743",
        "colab": {
          "base_uri": "https://localhost:8080/",
          "height": 35
        }
      },
      "source": [
        "r = np.random.randint(low = 1000, high = 10000)\n",
        "# print(r)\n",
        "\n",
        "x = (r**2)%n \n",
        "print(x)"
      ],
      "execution_count": 4,
      "outputs": [
        {
          "output_type": "stream",
          "text": [
            "2253\n"
          ],
          "name": "stdout"
        }
      ]
    },
    {
      "cell_type": "markdown",
      "metadata": {
        "id": "-cQK6A_I1SOk",
        "colab_type": "text"
      },
      "source": [
        "# Challenge\n",
        "V now chooses a random bit $b \\in \\lbrace 0,1 \\rbrace$. "
      ]
    },
    {
      "cell_type": "code",
      "metadata": {
        "id": "jj_IdAC_1i1a",
        "colab_type": "code",
        "outputId": "ec8d2069-4b60-4303-af6d-5804a8dd54fa",
        "colab": {
          "base_uri": "https://localhost:8080/",
          "height": 35
        }
      },
      "source": [
        "b = 1 if np.random.binomial(1, 0.5) == 1 else 0\n",
        "\n",
        "print(b)\n"
      ],
      "execution_count": 5,
      "outputs": [
        {
          "output_type": "stream",
          "text": [
            "0\n"
          ],
          "name": "stdout"
        }
      ]
    },
    {
      "cell_type": "markdown",
      "metadata": {
        "id": "T6f9YbA916H7",
        "colab_type": "text"
      },
      "source": [
        "# Response\n",
        "If V picked 0, P has to send $r\\;mod\\;n$. But if V picked 1, P has to send $(r \\cdot s) mod \\; n$. So V sends $(r \\cdot s^b)mod\\;n$. "
      ]
    },
    {
      "cell_type": "code",
      "metadata": {
        "id": "evSC1pFr17bx",
        "colab_type": "code",
        "outputId": "e42a5d6b-c3c8-454c-899e-1ae394767a21",
        "colab": {
          "base_uri": "https://localhost:8080/",
          "height": 35
        }
      },
      "source": [
        "y = (r * (s**b))%n\n",
        "print(y)"
      ],
      "execution_count": 6,
      "outputs": [
        {
          "output_type": "stream",
          "text": [
            "4451\n"
          ],
          "name": "stdout"
        }
      ]
    },
    {
      "cell_type": "markdown",
      "metadata": {
        "id": "uXDzR4cHV6Xl",
        "colab_type": "text"
      },
      "source": [
        "# Verification\n",
        "V checks if $y^2 \\equiv x \\cdot v\\;\\;(mod\\;n)$."
      ]
    },
    {
      "cell_type": "code",
      "metadata": {
        "id": "yqdeIqMLWWuZ",
        "colab_type": "code",
        "outputId": "22305f1c-b204-430f-d2bc-e3e3e8720d90",
        "colab": {
          "base_uri": "https://localhost:8080/",
          "height": 35
        }
      },
      "source": [
        "# v = 1\n",
        "\n",
        "if (y**2)%n == (x*(v**b))%n:\n",
        "    print(\"valid\")\n",
        "else:\n",
        "    print(\"something went wrong\")"
      ],
      "execution_count": 7,
      "outputs": [
        {
          "output_type": "stream",
          "text": [
            "valid\n"
          ],
          "name": "stdout"
        }
      ]
    },
    {
      "cell_type": "markdown",
      "metadata": {
        "id": "dWScvOqDWwvK",
        "colab_type": "text"
      },
      "source": [
        "# Fake Verification Attempt\n",
        "\n"
      ]
    },
    {
      "cell_type": "code",
      "metadata": {
        "id": "qMI_5JQTZWg8",
        "colab_type": "code",
        "outputId": "5f0d3607-3aec-4084-d398-b24e369ee2e3",
        "colab": {
          "base_uri": "https://localhost:8080/",
          "height": 54
        }
      },
      "source": [
        "valid_attempts = 0\n",
        "invalid_attempts = 0\n",
        "for i in range(10000):\n",
        "\n",
        "    fake_b = 1 if np.random.binomial(1, 0.5) == 1 else 0\n",
        "    \n",
        "        \n",
        "    \n",
        "    r = np.random.randint(100, 1000)\n",
        "    x = (r**2)%n\n",
        "    \n",
        "    if fake_b == 1:\n",
        "        x = (1/v) * x\n",
        "\n",
        "    \n",
        "\n",
        "    real_b = 1 if np.random.binomial(1, 0.5) == 1 else 0\n",
        "\n",
        "    y = r%n\n",
        "\n",
        "    \n",
        "    if (y**2)%n == (round(x*(v**real_b),0))%n:\n",
        "        valid_attempts += 1\n",
        "    else:\n",
        "        invalid_attempts += 1\n",
        "        \n",
        "        \n",
        "        \n",
        "print(\"Valid Attempts: \", valid_attempts)\n",
        "print(\"Invalid Attempts: \", invalid_attempts)\n"
      ],
      "execution_count": 83,
      "outputs": [
        {
          "output_type": "stream",
          "text": [
            "Valid Attempts:  5016\n",
            "Invalid Attempts:  4984\n"
          ],
          "name": "stdout"
        }
      ]
    }
  ]
}