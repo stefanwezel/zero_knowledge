{
  "nbformat": 4,
  "nbformat_minor": 0,
  "metadata": {
    "colab": {
      "name": "simple_fiat_shamir.ipynb",
      "version": "0.3.2",
      "provenance": [],
      "collapsed_sections": []
    },
    "kernelspec": {
      "name": "python3",
      "display_name": "Python 3"
    },
    "accelerator": "GPU"
  },
  "cells": [
    {
      "cell_type": "markdown",
      "metadata": {
        "id": "STF-RYJeuORo",
        "colab_type": "text"
      },
      "source": [
        "# Generate Prime Numbers\n",
        "We will need some prime numbers. By using this function, we can generate a list of primes below the given $n$."
      ]
    },
    {
      "cell_type": "code",
      "metadata": {
        "id": "K87rXrH_uVom",
        "colab_type": "code",
        "colab": {}
      },
      "source": [
        "import numpy as np\n",
        "\n",
        "def get_primes(n):\n",
        "    \"\"\" Generates a list of prime number below the given n. \"\"\"\n",
        "    sieve = [True] * n\n",
        "    for i in range(3, int(n**0.5) + 1,2):\n",
        "        if sieve[i]:\n",
        "            sieve[i*i::2*i] = [False] * int((n-i * i-1)/(2*i)+1)\n",
        "    return [2] + [i for i in range(3,n,2) if sieve[i]]"
      ],
      "execution_count": 0,
      "outputs": []
    },
    {
      "cell_type": "markdown",
      "metadata": {
        "id": "m0q13S-Pt0a2",
        "colab_type": "text"
      },
      "source": [
        "# Generate Prime Numbers\n",
        "First we need to calculate a $n = p \\cdot q$ with both $p$ and $n$ being large prime numbers. This makes $n$ very hard to factorize. Here we first generate a list of prime numbers by using our function from above. We then pick random elements from the second half of that list to ensure we use sufficiently large primes. The $n$ we picked will be used throughout the whole process."
      ]
    },
    {
      "cell_type": "code",
      "metadata": {
        "id": "LP8BkmRmtzUy",
        "colab_type": "code",
        "outputId": "cf91fa52-75c1-4f2e-d186-7b475981823d",
        "colab": {
          "base_uri": "https://localhost:8080/",
          "height": 35
        }
      },
      "source": [
        "list_of_primes = get_primes(1000)\n",
        "\n",
        "p = list_of_primes[np.random.randint(low = int(len(list_of_primes)/2), high = len(list_of_primes))]\n",
        "q = list_of_primes[np.random.randint(low = int(len(list_of_primes)/2), high = len(list_of_primes))]\n",
        "\n",
        "n = p * q\n",
        "\n",
        "print(n)"
      ],
      "execution_count": 38,
      "outputs": [
        {
          "output_type": "stream",
          "text": [
            "287879\n"
          ],
          "name": "stdout"
        }
      ]
    },
    {
      "cell_type": "markdown",
      "metadata": {
        "id": "ApTsqyiWTbzw",
        "colab_type": "text"
      },
      "source": [
        "# Pick Secret s and Calculate v\n",
        "A chooses a secret $s$ and calculates $v = s^2 mod\\;n$. The $v$ will be public. However you can't easily compute $s$ if you only know $v$. Simply trying to find $s$ by brute force is therefore insufficient."
      ]
    },
    {
      "cell_type": "code",
      "metadata": {
        "id": "R2nVC5gXUBzg",
        "colab_type": "code",
        "outputId": "de66e460-174a-4a3c-9f43-6c0decaf0f8c",
        "colab": {
          "base_uri": "https://localhost:8080/",
          "height": 35
        }
      },
      "source": [
        "s = np.random.randint(low = 1000, high = 10000)\n",
        "\n",
        "v = (s**2)%n\n",
        "print(v)"
      ],
      "execution_count": 39,
      "outputs": [
        {
          "output_type": "stream",
          "text": [
            "55839\n"
          ],
          "name": "stdout"
        }
      ]
    },
    {
      "cell_type": "markdown",
      "metadata": {
        "id": "-Hpynm6_z5wx",
        "colab_type": "text"
      },
      "source": [
        "# Commitment\n",
        "A now chooses a random integer $r$ to the Verifier V. P calculates $x = r^2 mod\\;n$ and then sends $x$ to V."
      ]
    },
    {
      "cell_type": "code",
      "metadata": {
        "id": "T315NUij0dRK",
        "colab_type": "code",
        "outputId": "fc668b1a-11f6-4fe9-898e-f283ef79a509",
        "colab": {
          "base_uri": "https://localhost:8080/",
          "height": 35
        }
      },
      "source": [
        "r = np.random.randint(low = 1000, high = 10000)\n",
        "\n",
        "x = (r**2)%n \n",
        "print(x)"
      ],
      "execution_count": 40,
      "outputs": [
        {
          "output_type": "stream",
          "text": [
            "203142\n"
          ],
          "name": "stdout"
        }
      ]
    },
    {
      "cell_type": "markdown",
      "metadata": {
        "id": "-cQK6A_I1SOk",
        "colab_type": "text"
      },
      "source": [
        "# Challenge\n",
        "V now chooses a random bit $b \\in \\lbrace 0,1 \\rbrace$. "
      ]
    },
    {
      "cell_type": "code",
      "metadata": {
        "id": "jj_IdAC_1i1a",
        "colab_type": "code",
        "outputId": "9b7ef63e-6f07-406c-d7bd-afa49ca24b00",
        "colab": {
          "base_uri": "https://localhost:8080/",
          "height": 35
        }
      },
      "source": [
        "b = 1 if np.random.binomial(1, 0.5) == 1 else 0\n",
        "\n",
        "print(b)"
      ],
      "execution_count": 41,
      "outputs": [
        {
          "output_type": "stream",
          "text": [
            "0\n"
          ],
          "name": "stdout"
        }
      ]
    },
    {
      "cell_type": "markdown",
      "metadata": {
        "id": "T6f9YbA916H7",
        "colab_type": "text"
      },
      "source": [
        "# Response\n",
        "If V picked 0, A has to send $r\\;mod\\;n$. But if V picked 1, A has to send $(r \\cdot s) mod \\; n$. So V sends $(r \\cdot s^b)mod\\;n$. "
      ]
    },
    {
      "cell_type": "code",
      "metadata": {
        "id": "evSC1pFr17bx",
        "colab_type": "code",
        "outputId": "82a4798e-df68-4077-94a0-0dd25caa7bf1",
        "colab": {
          "base_uri": "https://localhost:8080/",
          "height": 35
        }
      },
      "source": [
        "y = (r * (s**b))%n\n",
        "\n",
        "print(y)"
      ],
      "execution_count": 42,
      "outputs": [
        {
          "output_type": "stream",
          "text": [
            "5411\n"
          ],
          "name": "stdout"
        }
      ]
    },
    {
      "cell_type": "markdown",
      "metadata": {
        "id": "uXDzR4cHV6Xl",
        "colab_type": "text"
      },
      "source": [
        "# Verification\n",
        "V checks if $y^2 \\equiv x \\cdot v\\;\\;(mod\\;n)$."
      ]
    },
    {
      "cell_type": "code",
      "metadata": {
        "id": "yqdeIqMLWWuZ",
        "colab_type": "code",
        "outputId": "7ce02ca2-2495-456a-b428-b7f7894a6351",
        "colab": {
          "base_uri": "https://localhost:8080/",
          "height": 35
        }
      },
      "source": [
        "if (y**2)%n == (x*(v**b))%n:\n",
        "    print(\"valid\")\n",
        "else:\n",
        "    print(\"something went wrong\")"
      ],
      "execution_count": 43,
      "outputs": [
        {
          "output_type": "stream",
          "text": [
            "valid\n"
          ],
          "name": "stdout"
        }
      ]
    },
    {
      "cell_type": "markdown",
      "metadata": {
        "id": "dWScvOqDWwvK",
        "colab_type": "text"
      },
      "source": [
        "# Fake Verification Attempt\n",
        "In this scenario, E tries to verify without actually knowing the secret $s$. To do this, E has to guess the bit $b$, V will choose in advance. If E guesses the bit will be 0, the whole protocol would be passes without any changes, since knowing the secret $s$ is not necessary for this case. However, if V guesses $b=1$, E has to send $x = x \\cdot \\frac{1}{v}$. This will also be accepted since V checks if $y^2 \\equiv x \\cdot v^b\\;(mod\\;n)$ which is equivalent to $r^2 \\equiv x \\cdot v \\cdot \\frac{1}{v}\\;(mod\\;n)\\Leftrightarrow r^2 \\equiv x\\;(mod\\;n)$ which will obviously evaluate to True, since $x = r^2\\;(mod\\;n)$.\n"
      ]
    },
    {
      "cell_type": "code",
      "metadata": {
        "id": "qMI_5JQTZWg8",
        "colab_type": "code",
        "outputId": "25ff70ce-c6ff-4b51-f865-81f70ce94279",
        "colab": {
          "base_uri": "https://localhost:8080/",
          "height": 54
        }
      },
      "source": [
        "# initiate counter variables which will be used for output\n",
        "valid_attempts = 0\n",
        "invalid_attempts = 0\n",
        "\n",
        "# we will go through the whole authentification process 1000 times\n",
        "for i in range(100000):\n",
        "    # E will have to choose a b in advance (which E can only do arbitrarily)\n",
        "    fake_b = 1 if np.random.binomial(1, 0.5) == 1 else 0\n",
        "    # choose a random bit as usual and calculate x\n",
        "    r = np.random.randint(100, 1000)\n",
        "    x = (r**2)%n\n",
        "    if fake_b == 1:\n",
        "        x = (1/v) * x\n",
        "\n",
        "    \n",
        "    # V now randomly chooses the bit b\n",
        "    real_b = 1 if np.random.binomial(1, 0.5) == 1 else 0\n",
        "    \n",
        "    # E calculates y\n",
        "    y = r%n\n",
        "\n",
        "    # V checks if the authentification is valid\n",
        "    if (y**2)%n == (round(x*(v**real_b),0))%n:\n",
        "        valid_attempts += 1\n",
        "    else:\n",
        "        invalid_attempts += 1\n",
        "        \n",
        "        \n",
        "        \n",
        "print(\"Valid Attempts: \", valid_attempts)\n",
        "print(\"Invalid Attempts: \", invalid_attempts)\n"
      ],
      "execution_count": 45,
      "outputs": [
        {
          "output_type": "stream",
          "text": [
            "Valid Attempts:  50157\n",
            "Invalid Attempts:  49843\n"
          ],
          "name": "stdout"
        }
      ]
    },
    {
      "cell_type": "markdown",
      "metadata": {
        "id": "aEcLwM6BKtFb",
        "colab_type": "text"
      },
      "source": [
        "As seen above, the accepted and denied attempts should be equally distributed since E has a propability of $p = 0.5$ of picking the right bit."
      ]
    }
  ]
}